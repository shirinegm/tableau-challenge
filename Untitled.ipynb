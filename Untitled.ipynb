{
 "cells": [
  {
   "cell_type": "markdown",
   "id": "51308a57",
   "metadata": {},
   "source": [
    "# Cleaning Notebook for Citi Bike Analysis"
   ]
  },
  {
   "cell_type": "code",
   "execution_count": null,
   "id": "051b1462",
   "metadata": {},
   "outputs": [],
   "source": [
    "# Dependencies\n",
    "\n",
    "import pandas as pd"
   ]
  },
  {
   "cell_type": "code",
   "execution_count": null,
   "id": "a2de44e7",
   "metadata": {},
   "outputs": [],
   "source": [
    "# import 2 sets of winter and summer months of Citi Bike data\n",
    "# Summer Set 1: 2019-05 til 2019-10\n",
    "# Summer Set 2: 2020-05 til 2020-19\n",
    "\n",
    "# Winter Set 1: 2019-11 til 2020-04\n",
    "# Winter Set 2: 2020-11 til 2021-04\n",
    "\n",
    "summer_1 = pd.read_csv(\"../Data_Source/JC-201905-citibike-tripdata.csv\")\n",
    "summer_1.head()"
   ]
  },
  {
   "cell_type": "code",
   "execution_count": null,
   "id": "3d2fa208",
   "metadata": {},
   "outputs": [],
   "source": [
    "summer_2 = pd.read_csv(\"../Data_Source/JC-201906-citibike-tripdata.csv\")\n",
    "summer_2.head()"
   ]
  },
  {
   "cell_type": "code",
   "execution_count": null,
   "id": "e618a5c8",
   "metadata": {},
   "outputs": [],
   "source": [
    "summer_3 = pd.read_csv(\"../Data_Source/JC-201907-citibike-tripdata.csv\")\n",
    "summer_3.head()"
   ]
  },
  {
   "cell_type": "code",
   "execution_count": null,
   "id": "91a1e9ea",
   "metadata": {},
   "outputs": [],
   "source": [
    "summer_4 = pd.read_csv(\"../Data_Source/JC-201908-citibike-tripdata.csv\")\n",
    "summer_4.head()"
   ]
  },
  {
   "cell_type": "code",
   "execution_count": null,
   "id": "14dc931a",
   "metadata": {},
   "outputs": [],
   "source": [
    "summer_5 = pd.read_csv(\"../Data_Source/JC-201909-citibike-tripdata.csv\")\n",
    "summer_5.head()"
   ]
  },
  {
   "cell_type": "code",
   "execution_count": null,
   "id": "b58a9616",
   "metadata": {},
   "outputs": [],
   "source": [
    "summer_6 = pd.read_csv(\"../Data_Source/JC-201910-citibike-tripdata.csv\")\n",
    "summer_6.head()"
   ]
  },
  {
   "cell_type": "code",
   "execution_count": null,
   "id": "510ad26a",
   "metadata": {},
   "outputs": [],
   "source": [
    "summer_7 = pd.read_csv(\"../Data_Source/JC-202005-citibike-tripdata.csv\")\n",
    "summer_7.head()"
   ]
  },
  {
   "cell_type": "code",
   "execution_count": null,
   "id": "aaa38b67",
   "metadata": {},
   "outputs": [],
   "source": [
    "summer_8 = pd.read_csv(\"../Data_Source/JC-202006-citibike-tripdata.csv\")\n",
    "summer_8.head()"
   ]
  },
  {
   "cell_type": "code",
   "execution_count": null,
   "id": "09a87bd0",
   "metadata": {},
   "outputs": [],
   "source": [
    "summer_9 = pd.read_csv(\"../Data_Source/JC-202007-citibike-tripdata.csv\")\n",
    "summer_9.head()"
   ]
  },
  {
   "cell_type": "code",
   "execution_count": null,
   "id": "374232a4",
   "metadata": {},
   "outputs": [],
   "source": [
    "summer_10 = pd.read_csv(\"../Data_Source/JC-202008-citibike-tripdata.csv\")\n",
    "summer_10.head()"
   ]
  },
  {
   "cell_type": "code",
   "execution_count": null,
   "id": "9cb8f708",
   "metadata": {},
   "outputs": [],
   "source": [
    "summer_11 = pd.read_csv(\"../Data_Source/JC-202009-citibike-tripdata.csv\")\n",
    "summer_11.head()"
   ]
  },
  {
   "cell_type": "code",
   "execution_count": null,
   "id": "160bc5df",
   "metadata": {},
   "outputs": [],
   "source": [
    "summer_12 = pd.read_csv(\"../Data_Source/JC-202010-citibike-tripdata.csv\")\n",
    "summer_12.head()"
   ]
  },
  {
   "cell_type": "code",
   "execution_count": null,
   "id": "5155ed2d",
   "metadata": {},
   "outputs": [],
   "source": [
    "frame_2019 = [summer_1, summer_2, summer_3, summer_4, summer_5, summer_6]\n",
    "frame_2020 = [summer_7, summer_8, summer_9, summer_10, summer_11, summer_12]\n",
    "\n",
    "summer_2019 = pd.DataFrame()\n",
    "summer_2020 = pd.DataFrame()\n",
    "\n",
    "for df in frame_2019:\n",
    "    summer_2019 = summer_2019.append(df)\n",
    "\n",
    "for df in frame_2020:\n",
    "    summer_2020 = summer_2020.append(df)"
   ]
  },
  {
   "cell_type": "code",
   "execution_count": null,
   "id": "f652a959",
   "metadata": {},
   "outputs": [],
   "source": [
    "#summer_2019.head()\n",
    "len(summer_2019)"
   ]
  },
  {
   "cell_type": "code",
   "execution_count": null,
   "id": "f4d54e01",
   "metadata": {},
   "outputs": [],
   "source": [
    "## Do the same with winter sets\n",
    "## Write out to 4 csv files for each season for each year"
   ]
  }
 ],
 "metadata": {
  "kernelspec": {
   "display_name": "Python 3",
   "language": "python",
   "name": "python3"
  },
  "language_info": {
   "codemirror_mode": {
    "name": "ipython",
    "version": 3
   },
   "file_extension": ".py",
   "mimetype": "text/x-python",
   "name": "python",
   "nbconvert_exporter": "python",
   "pygments_lexer": "ipython3",
   "version": "3.8.8"
  }
 },
 "nbformat": 4,
 "nbformat_minor": 5
}
